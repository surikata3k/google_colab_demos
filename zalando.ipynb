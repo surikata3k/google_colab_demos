{
  "nbformat": 4,
  "nbformat_minor": 0,
  "metadata": {
    "colab": {
      "provenance": [],
      "authorship_tag": "ABX9TyMapOUFAaFHuCGeEeDXqEVx",
      "include_colab_link": true
    },
    "kernelspec": {
      "name": "python3",
      "display_name": "Python 3"
    },
    "language_info": {
      "name": "python"
    }
  },
  "cells": [
    {
      "cell_type": "markdown",
      "metadata": {
        "id": "view-in-github",
        "colab_type": "text"
      },
      "source": [
        "<a href=\"https://colab.research.google.com/github/surikata3k/ia_celsius2farenheit/blob/main/zalando3.ipynb\" target=\"_parent\"><img src=\"https://colab.research.google.com/assets/colab-badge.svg\" alt=\"Open In Colab\"/></a>"
      ]
    },
    {
      "cell_type": "code",
      "execution_count": null,
      "metadata": {
        "id": "NIBRfRRcaWMf"
      },
      "outputs": [],
      "source": [
        "import tensorflow as tf\n",
        "import tensorflow_datasets as tfds"
      ]
    },
    {
      "cell_type": "code",
      "source": [
        "dades, metadades = tfds.load('fashion_mnist', as_supervised = True, with_info = True)"
      ],
      "metadata": {
        "id": "AktXt3X3bEMC"
      },
      "execution_count": null,
      "outputs": []
    },
    {
      "cell_type": "code",
      "source": [
        "metadades"
      ],
      "metadata": {
        "id": "UN6G3znxbXeT"
      },
      "execution_count": null,
      "outputs": []
    },
    {
      "cell_type": "code",
      "source": [
        "dades_entrenament, dades_prova = dades['train'], dades['test']\n"
      ],
      "metadata": {
        "id": "h885zKhtbl1v"
      },
      "execution_count": null,
      "outputs": []
    },
    {
      "cell_type": "code",
      "source": [
        "nom_categories = metadades.features['label'].names\n"
      ],
      "metadata": {
        "id": "j0OKmykybwUh"
      },
      "execution_count": null,
      "outputs": []
    },
    {
      "cell_type": "code",
      "source": [
        "nom_categories"
      ],
      "metadata": {
        "id": "FRMLHkYnbxqW"
      },
      "execution_count": null,
      "outputs": []
    },
    {
      "cell_type": "code",
      "source": [
        "# Normalitzar les dades. Obtenir dades entre els valors 0.0 i 1.0 i no entre 0-255\n",
        "def normalitzar (imatges, etiquetes):\n",
        "    imatges = tf.cast (imatges, tf.float32)\n",
        "    imatges = imatges / 255    # Divisió amb decimals per tal d'obtenir els valors entre 0 i 1\n",
        "    return imatges, etiquetes\n",
        "\n"
      ],
      "metadata": {
        "id": "p4cdBKpub9ll"
      },
      "execution_count": null,
      "outputs": []
    },
    {
      "cell_type": "code",
      "source": [
        "# Ara passem totes les dades d'entrenament i proves per la nostra funció de normalització\n",
        "\n",
        "dades_entrenament = dades_entrenament.map(normalitzar)\n",
        "dades_prova = dades_prova.map(normalitzar)"
      ],
      "metadata": {
        "id": "c1hZer6accXL"
      },
      "execution_count": null,
      "outputs": []
    },
    {
      "cell_type": "code",
      "source": [
        "# Ficar les variables a memòria cau per tal de millorar el rendiment\n",
        "\n",
        "dades_entrenament = dades_entrenament.cache()\n",
        "dades_prova = dades_prova.cache()"
      ],
      "metadata": {
        "id": "021oxPHlcm1z"
      },
      "execution_count": null,
      "outputs": []
    },
    {
      "cell_type": "code",
      "source": [],
      "metadata": {
        "id": "hod-VMxzcyhK"
      },
      "execution_count": null,
      "outputs": []
    },
    {
      "cell_type": "code",
      "source": [
        "# Mostrar les primeres 25 imatges i comprovar si les ha etiquetat correctament\n",
        "\n",
        "import matplotlib.pyplot as plt\n",
        "\n",
        "plt.figure(figsize=(10, 10))\n",
        "\n",
        "for i, (imatge, etiqueta) in enumerate(dades_entrenament.take(25)):\n",
        "    imatge = imatge.numpy().reshape((28, 28))  # Redimensionar la imatge a 28x28 píxels\n",
        "    plt.subplot(5, 5, i + 1)\n",
        "    plt.xticks([])\n",
        "    plt.yticks([])\n",
        "    plt.imshow(imatge, cmap=plt.cm.binary)  # Mostrar la imatge en escala de grisos\n",
        "    plt.grid(False)\n",
        "    plt.xlabel(nom_categories[etiqueta])  # Mostrar l'etiqueta de la imatge\n",
        "\n",
        "plt.tight_layout()  # Ajustar el disseny per evitar superposicions\n",
        "plt.show()  # Mostrar totes les imatges juntes\n"
      ],
      "metadata": {
        "id": "HXYGtO33c7fN"
      },
      "execution_count": null,
      "outputs": []
    },
    {
      "cell_type": "code",
      "source": [
        "# Creant el model\n",
        "\n",
        "model = tf.keras.Sequential([\n",
        "    # Definim explícitament la capa d'entrada\n",
        "    tf.keras.Input(shape=(28, 28, 1)),  # Forma de les imatges: 28x28 píxels, 1 canal (escala de grisos)\n",
        "\n",
        "    # Capa Flatten: transforma la imatge 28x28x1 en un vector de 784 elements\n",
        "    tf.keras.layers.Flatten(),\n",
        "\n",
        "    # Primera capa oculta de 50 neurones amb activació ReLU\n",
        "    tf.keras.layers.Dense(50, activation='relu'),\n",
        "\n",
        "    # Segona capa oculta de 50 neurones amb activació ReLU\n",
        "    tf.keras.layers.Dense(50, activation='relu'),\n",
        "\n",
        "    # Capa de sortida amb 10 neurones (per a 10 classes) i activació softmax\n",
        "    tf.keras.layers.Dense(10, activation='softmax')\n",
        "])"
      ],
      "metadata": {
        "id": "kwrCAfJVdGSY"
      },
      "execution_count": null,
      "outputs": []
    },
    {
      "cell_type": "code",
      "source": [
        "model.compile(\n",
        "    optimizer='adam',\n",
        "    # Funció de pèrdua utilitzada en problemes de classificació multiclasse amb etiquetes enters\n",
        "    loss=tf.keras.losses.SparseCategoricalCrossentropy(),\n",
        "    metrics=['accuracy']  # Mètrica per avaluar el rendiment del model (precisió)\n",
        ")"
      ],
      "metadata": {
        "id": "eWpGhvUMdV6c"
      },
      "execution_count": null,
      "outputs": []
    },
    {
      "cell_type": "code",
      "source": [
        "MIDA_BLOC = 32  # Defineix la mida del lot (batch size) per a l'entrenament\n",
        "\n",
        "# Configura les dades d'entrenament per ser agafades de manera aleatòria i en lots de 32\n",
        "dades_entrenament = dades_entrenament.shuffle(60000).batch(MIDA_BLOC)\n",
        "\n",
        "# Configura les dades de prova en lots de 32 (sense shuffle, ja que és el conjunt de validació)\n",
        "dades_prova = dades_prova.batch(MIDA_BLOC)"
      ],
      "metadata": {
        "id": "87_SasuldW_J"
      },
      "execution_count": null,
      "outputs": []
    },
    {
      "cell_type": "code",
      "source": [
        "# Anem a entrenar la nostra xarxa neuronal. Agafem el model d'entrenament fit\n",
        "# Li donarem 5 voltes (epochs) a les dades d'entrenament\n",
        "\n",
        "import math\n",
        "\n",
        "historial = model.fit(\n",
        "    dades_entrenament,\n",
        "    epochs=5,\n",
        "    steps_per_epoch=math.ceil(60000/MIDA_BLOC)  # Calcula el nombre de lots per època\n",
        ")\n",
        "print(\"Model entrenat!!\")"
      ],
      "metadata": {
        "id": "uRkzNMOFdusy"
      },
      "execution_count": null,
      "outputs": []
    },
    {
      "cell_type": "code",
      "source": [
        "plt.xlabel(\"# Epoch\")\n",
        "plt.ylabel('Magnitud de pèrdua')\n",
        "plt.plot(historial.history[\"loss\"])"
      ],
      "metadata": {
        "id": "GiLgsQ5OeKe1"
      },
      "execution_count": null,
      "outputs": []
    },
    {
      "cell_type": "code",
      "source": [
        "# Pintar una graella per poder fer les prediccions. Marcar si és correcta (blau) o incorrecta (vermella)\n",
        "import numpy as np\n",
        "import matplotlib.pyplot as plt\n",
        "\n",
        "# Obtenir un lot de dades de prova\n",
        "for images_prova, etiquetes_prova in dades_prova.take(1):\n",
        "    images_prova = images_prova.numpy()\n",
        "    etiquetes_prova = etiquetes_prova.numpy()\n",
        "    prediccions = model.predict(images_prova)\n",
        "\n",
        "def dibuixar_imatge(i, arr_prediccions, etiquetes_reals, images):\n",
        "    arr_prediccions, etiqueta_real, img = arr_prediccions[i], etiquetes_reals[i], images[i]\n",
        "    plt.grid(False)\n",
        "    plt.xticks([])\n",
        "    plt.yticks([])\n",
        "\n",
        "    plt.imshow(img[...,0], cmap=plt.cm.binary)  # Mostrar imatge en escala de grisos\n",
        "\n",
        "    etiqueta_prediccio = np.argmax(arr_prediccions)\n",
        "    if etiqueta_prediccio == etiqueta_real:\n",
        "        color = 'blue'\n",
        "    else:\n",
        "        color = 'red'\n",
        "\n",
        "    plt.xlabel('{} {:2.0f}% ({})'.format(\n",
        "        nom_categories[etiqueta_prediccio],\n",
        "        100*np.max(arr_prediccions),\n",
        "        nom_categories[etiqueta_real]),\n",
        "        color=color)"
      ],
      "metadata": {
        "id": "PCfU782RfLAq"
      },
      "execution_count": null,
      "outputs": []
    },
    {
      "cell_type": "code",
      "source": [
        "def dibbixar_valor_array(i, arr_predictions, etiqueta_real):\n",
        "    arr_predictions, etiqueta_real = arr_predictions[i], etiqueta_real[i]\n",
        "    plt.grid(False)\n",
        "    plt.xticks([])\n",
        "    plt.yticks([])\n",
        "    grafica = plt.bar(range(10), arr_predictions, color=\"#777777\")\n",
        "    plt.ylim([0, 1])\n",
        "    etiqueta_prediccio = np.argmax(arr_predictions)\n",
        "\n",
        "    grafica[etiqueta_prediccio].set_color('red')\n",
        "    grafica[etiqueta_real].set_color('blue')\n",
        "\n",
        "filas = 5\n",
        "columnas = 5\n",
        "num_imatges = filas*columnas\n",
        "plt.figure(figsize=(2*2*columnas, 2*filas))\n",
        "for i in range(num_imatges):\n",
        "    plt.subplot(filas, 2*columnas, 2*i+1)\n",
        "    dibuixar_imatge(i, prediccions, etiquetes_prova, images_prova)\n",
        "    plt.subplot(filas, 2*columnas, 2*i+2)\n",
        "    dibbixar_valor_array(i, prediccions, etiquetes_prova)"
      ],
      "metadata": {
        "id": "zXKXCp0pf2YC"
      },
      "execution_count": null,
      "outputs": []
    },
    {
      "cell_type": "code",
      "source": [
        "# Provar una única imatge i veure la predicció\n",
        "imatge = images_prova[2]  # Agafem la tercera imatge del conjunt de prova (índex 2)\n",
        "imatge = np.array([imatge])  # Convertim a array numpy i afegim dimensió de batch\n",
        "prediccio = model.predict(imatge)  # Obtenim la predicció del model\n",
        "\n",
        "print(\"Predicció: \" + nom_categories[np.argmax(prediccio[0])])  # Mostrem la classe predita"
      ],
      "metadata": {
        "id": "YdC6Kq7qgL8T"
      },
      "execution_count": null,
      "outputs": []
    }
  ]
}
